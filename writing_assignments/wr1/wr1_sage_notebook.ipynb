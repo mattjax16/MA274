{
 "cells": [
  {
   "cell_type": "markdown",
   "metadata": {},
   "source": [
    "# Writing assignment 1 \n",
    "## Mathematical Reasoning (MA274) - Professor Gouvêa\n",
    "### Matt Bass 09/09/2021"
   ]
  },
  {
   "cell_type": "markdown",
   "metadata": {},
   "source": [
    "### Beatty Sequences\n",
    "\n",
    "Suppose we take an irrational number α > 1 \n",
    "and look at the sequence α, 2α, 3α, ...nα, ...\n",
    "\n",
    "None of these numbers will be integers. (Do you see why?) We can, however, round them down to the nearest integer; that will give a sequence of positive integers.\n",
    "\n",
    "lets do "
   ]
  },
  {
   "cell_type": "code",
   "execution_count": 7,
   "metadata": {},
   "outputs": [
    {
     "name": "stdout",
     "output_type": "stream",
     "text": [
      "The results are [1, 2, 4, 5, 7, 8, 9, 11, 12, 14, 15, 16, 18, 19, 21, 22, 24, 25, 26, 28, 29]\n"
     ]
    }
   ],
   "source": [
    "a = sqrt(2)\n",
    "results = []\n",
    "for n in range(1,22):\n",
    "    results.append(floor(n*a))\n",
    "print(f'The results are {results}')"
   ]
  },
  {
   "cell_type": "markdown",
   "metadata": {},
   "source": [
    "Notice that we do not get all integers. Here is a list of the missing ones up to 30:\n",
    "                                                                                   3, 6, 10, 13, 17, 20, 23, 27, 30...\n",
    "                                                                                "
   ]
  },
  {
   "cell_type": "markdown",
   "metadata": {},
   "source": [
    "The first sequence, (⌊nα⌋), is called the Beatty Sequence attached to α. The second is its complementary sequence. You are invited to prove things about Beatty sequences. Here are some things to explore. You should not try to answer all of them; just investigate the ones that interest you."
   ]
  },
  {
   "cell_type": "markdown",
   "metadata": {},
   "source": [
    "### A.\n",
    "There are clearly infinitely many integers in any Beatty sequence. Show that the complementary sequence is infinite as well."
   ]
  },
  {
   "cell_type": "code",
   "execution_count": null,
   "metadata": {},
   "outputs": [],
   "source": []
  }
 ],
 "metadata": {
  "kernelspec": {
   "display_name": "SageMath 9.4",
   "language": "sage",
   "name": "sagemath-9.4"
  },
  "language_info": {
   "codemirror_mode": {
    "name": "ipython",
    "version": 3
   },
   "file_extension": ".py",
   "mimetype": "text/x-python",
   "name": "python",
   "nbconvert_exporter": "python",
   "pygments_lexer": "ipython3",
   "version": "3.9.5"
  }
 },
 "nbformat": 4,
 "nbformat_minor": 4
}
